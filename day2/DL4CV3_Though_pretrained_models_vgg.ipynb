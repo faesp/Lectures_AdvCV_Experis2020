{
  "nbformat": 4,
  "nbformat_minor": 0,
  "metadata": {
    "kernelspec": {
      "display_name": "Python 3",
      "language": "python",
      "name": "python3"
    },
    "language_info": {
      "codemirror_mode": {
        "name": "ipython",
        "version": 3
      },
      "file_extension": ".py",
      "mimetype": "text/x-python",
      "name": "python",
      "nbconvert_exporter": "python",
      "pygments_lexer": "ipython3",
      "version": "3.6.6"
    },
    "colab": {
      "name": "DL4CV3_Though_pretrained_models_vgg.ipynb",
      "provenance": [],
      "collapsed_sections": [],
      "include_colab_link": true
    },
    "accelerator": "GPU"
  },
  "cells": [
    {
      "cell_type": "markdown",
      "metadata": {
        "id": "view-in-github",
        "colab_type": "text"
      },
      "source": [
        "<a href=\"https://colab.research.google.com/github/matteoalberti/Lectures_AdvCV_Experis2020/blob/main/day2/DL4CV3_Though_pretrained_models_vgg.ipynb\" target=\"_parent\"><img src=\"https://colab.research.google.com/assets/colab-badge.svg\" alt=\"Open In Colab\"/></a>"
      ]
    },
    {
      "cell_type": "markdown",
      "metadata": {
        "id": "s7F6kkdQzxLc"
      },
      "source": [
        "![](https://github.com/matteoalberti/Lectures_introCV_Experis2020/blob/main/images/intro.jpg?raw=1)"
      ]
    },
    {
      "cell_type": "markdown",
      "metadata": {
        "id": "xYQa8A5JzxLd"
      },
      "source": [
        "# **Welcome!**\n",
        "\n",
        "# Introduction to Machine Learning for Computer Vision\n",
        "\n",
        "#### Thought Pre-Trained Models!\n",
        "\n",
        "\n",
        "## **Lecturer :** Matteo Alberti\n",
        "\n",
        "\n",
        "*Contacts :* https://www.linkedin.com/in/matteo-alberti-170493/\n"
      ]
    },
    {
      "cell_type": "markdown",
      "metadata": {
        "id": "aV2--AfwzxLe"
      },
      "source": [
        "# Summary\n",
        "\n",
        "\n",
        "- <font color=E35F2A>**Transfer Learning & Pre-Trained Models** </font>\n"
      ]
    },
    {
      "cell_type": "markdown",
      "metadata": {
        "id": "noVsjfrIzxLg"
      },
      "source": [
        "#### Load Packages"
      ]
    },
    {
      "cell_type": "code",
      "metadata": {
        "id": "VUciZBIxzxLh",
        "colab": {
          "base_uri": "https://localhost:8080/"
        },
        "outputId": "b36f081a-6db3-407d-a222-e9f6d27e2116"
      },
      "source": [
        "#Sklearn ML\n",
        "from sklearn.model_selection import train_test_split\n",
        "from skimage.transform import resize\n",
        "import numpy as np\n",
        "import platform\n",
        "import keras\n",
        "\n",
        "#TF Imports\n",
        "import tensorflow as tf\n",
        "import sklearn.model_selection as model_selection\n",
        "import datetime\n",
        "import pandas as pd\n",
        "\n",
        "\n",
        "#Visualization\n",
        "import matplotlib.pyplot as plt\n",
        "plt.style.use('seaborn-white')\n",
        "\n",
        "print('TF Version : ',tf.__version__)\n",
        "print('Python Version : ', platform.python_version())"
      ],
      "execution_count": 80,
      "outputs": [
        {
          "output_type": "stream",
          "text": [
            "TF Version :  2.3.0\n",
            "Python Version :  3.6.9\n"
          ],
          "name": "stdout"
        }
      ]
    },
    {
      "cell_type": "markdown",
      "metadata": {
        "id": "SuCfmsE8D-83"
      },
      "source": [
        "## Load Cifar100 this time!\n",
        "\n",
        "This dataset is just like the CIFAR-10, except it has 100 classes containing 600 images each. There are 500 training images and 100 testing images per class. The 100 classes in the CIFAR-100 are grouped into 20 superclasses. Each image comes with a \"fine\" label (the class to which it belongs) and a \"coarse\" label (the superclass to which it belongs).\n",
        "\n",
        "Divided in **Supercalsses and Classes**"
      ]
    },
    {
      "cell_type": "code",
      "metadata": {
        "id": "VTkS4YR3zxLn",
        "colab": {
          "base_uri": "https://localhost:8080/"
        },
        "outputId": "910a537f-5527-416c-e589-1141db15cc3a"
      },
      "source": [
        "(x_train, y_train), (x_test, y_test) = tf.keras.datasets.cifar100.load_data()\n",
        "\n",
        "print(x_train.shape, y_train.shape, x_test.shape, y_test.shape)\n",
        "\n",
        "#The range for each individual colour is 0-255\n",
        "x_train = x_train.astype('float32')/255 \n",
        "x_test = x_test.astype('float32')/255"
      ],
      "execution_count": 3,
      "outputs": [
        {
          "output_type": "stream",
          "text": [
            "Downloading data from https://www.cs.toronto.edu/~kriz/cifar-100-python.tar.gz\n",
            "169009152/169001437 [==============================] - 2s 0us/step\n",
            "(50000, 32, 32, 3) (50000, 1) (10000, 32, 32, 3) (10000, 1)\n"
          ],
          "name": "stdout"
        }
      ]
    },
    {
      "cell_type": "code",
      "metadata": {
        "id": "7uDi4uqx50r3",
        "colab": {
          "base_uri": "https://localhost:8080/",
          "height": 126
        },
        "outputId": "3fefede3-ed4b-4054-f613-f0fb6dde16b1"
      },
      "source": [
        "np.unique(y_train)"
      ],
      "execution_count": null,
      "outputs": [
        {
          "output_type": "execute_result",
          "data": {
            "text/plain": [
              "array([ 0,  1,  2,  3,  4,  5,  6,  7,  8,  9, 10, 11, 12, 13, 14, 15, 16,\n",
              "       17, 18, 19, 20, 21, 22, 23, 24, 25, 26, 27, 28, 29, 30, 31, 32, 33,\n",
              "       34, 35, 36, 37, 38, 39, 40, 41, 42, 43, 44, 45, 46, 47, 48, 49, 50,\n",
              "       51, 52, 53, 54, 55, 56, 57, 58, 59, 60, 61, 62, 63, 64, 65, 66, 67,\n",
              "       68, 69, 70, 71, 72, 73, 74, 75, 76, 77, 78, 79, 80, 81, 82, 83, 84,\n",
              "       85, 86, 87, 88, 89, 90, 91, 92, 93, 94, 95, 96, 97, 98, 99])"
            ]
          },
          "metadata": {
            "tags": []
          },
          "execution_count": 40
        }
      ]
    },
    {
      "cell_type": "code",
      "metadata": {
        "id": "6zslIkgRc8Ij",
        "colab": {
          "base_uri": "https://localhost:8080/",
          "height": 35
        },
        "outputId": "e1cbc1e5-61ec-4628-90a7-6afc7d1ac2db"
      },
      "source": [
        "# check size\n",
        "x_train.size // 1024 // 1024"
      ],
      "execution_count": null,
      "outputs": [
        {
          "output_type": "execute_result",
          "data": {
            "text/plain": [
              "146"
            ]
          },
          "metadata": {
            "tags": []
          },
          "execution_count": 52
        }
      ]
    },
    {
      "cell_type": "code",
      "metadata": {
        "id": "39TuP3tgfxWK",
        "colab": {
          "base_uri": "https://localhost:8080/",
          "height": 35
        },
        "outputId": "5ac2c39c-7f0d-4735-84b0-f70a49ae1899"
      },
      "source": [
        "len(x_train)"
      ],
      "execution_count": null,
      "outputs": [
        {
          "output_type": "execute_result",
          "data": {
            "text/plain": [
              "50000"
            ]
          },
          "metadata": {
            "tags": []
          },
          "execution_count": 57
        }
      ]
    },
    {
      "cell_type": "markdown",
      "metadata": {
        "id": "w4ihmUI0zxLv"
      },
      "source": [
        "##### Visulize Data & Stats"
      ]
    },
    {
      "cell_type": "markdown",
      "metadata": {
        "id": "IFPb86YhzxL9"
      },
      "source": [
        "### Define HyperParameters & CNN Architecture\n",
        "   "
      ]
    },
    {
      "cell_type": "code",
      "metadata": {
        "id": "UBvAXYY5zxL-",
        "colab": {
          "base_uri": "https://localhost:8080/"
        },
        "outputId": "fa948170-5c55-4e78-9eff-6a862c444d5b"
      },
      "source": [
        "#Parameters\n",
        "import sys;import argparse; sys.argv=['']; del sys\n",
        "parser = argparse.ArgumentParser(description=\"CNN\")\n",
        "parser.add_argument('--epochs', default=20, type=int)\n",
        "parser.add_argument('--iter', default=100, type=int)\n",
        "parser.add_argument('--batch_size', default=128, type=int)\n",
        "parser.add_argument('--lr', default=0.001, type=float)\n",
        "\n",
        "#For VGG\n",
        "parser.add_argument('--weight_decay', default=0.0001, type=float)\n",
        "parser.add_argument('--dropout', default=0.5, type=float)\n",
        "\n",
        "\n",
        "parser.add_argument('--height', default=32, type=int)\n",
        "parser.add_argument('--width', default=32, type=int)\n",
        "parser.add_argument('--channel', default=3, type=int)\n",
        "parser.add_argument('--classes', default=10, type=int)\n",
        "\n",
        "#FOR RESNET\n",
        "parser.add_argument('--stack_n', type=int, default=25, metavar='NUMBER',\n",
        "                help='stack number n, total layers = 6 * n + 2 (default: 5)')\n",
        "\n",
        "parser.add_argument('--train', default=False)\n",
        "args = parser.parse_args()\n",
        "\n",
        "layers_res = 6 * args.stack_n + 2\n",
        "parser.add_argument('--layers_res', default=layers_res)\n",
        "\n",
        "#Extras\n",
        "parser.add_argument('--early_stop', default=3)\n",
        "\n",
        "\n",
        "args = parser.parse_args()\n",
        "\n",
        "print(args)"
      ],
      "execution_count": 4,
      "outputs": [
        {
          "output_type": "stream",
          "text": [
            "Namespace(batch_size=128, channel=3, classes=10, dropout=0.5, early_stop=3, epochs=20, height=32, iter=100, layers_res=152, lr=0.001, stack_n=25, train=False, weight_decay=0.0001, width=32)\n"
          ],
          "name": "stdout"
        }
      ]
    },
    {
      "cell_type": "markdown",
      "metadata": {
        "id": "u19NQ0XkzxMB"
      },
      "source": [
        "# Thought deep pre-trained models - [Part 1]"
      ]
    },
    {
      "cell_type": "markdown",
      "metadata": {
        "id": "PyEFgiztzxMC"
      },
      "source": [
        "### Visual Geometry Group Network \n",
        "\n",
        "<img src=\"https://www.researchgate.net/profile/Max_Ferguson/publication/322512435/figure/fig3/AS:697390994567179@1543282378794/Fig-A1-The-standard-VGG-16-network-architecture-as-proposed-in-32-Note-that-only.png\" alt=\"Drawing\" style=\"width: 500px;\"/>"
      ]
    },
    {
      "cell_type": "markdown",
      "metadata": {
        "id": "hO3KvR9AzxMD"
      },
      "source": [
        "### Start with loading weights\n",
        "\n",
        "- Which weights can I load?\n",
        "- What have I to modify?"
      ]
    },
    {
      "cell_type": "code",
      "metadata": {
        "id": "0IbLH6byzxMD",
        "colab": {
          "base_uri": "https://localhost:8080/"
        },
        "outputId": "68fef80b-4545-4ef1-b949-22d55fe0e849"
      },
      "source": [
        "vgg16 = tf.keras.applications.VGG16(\n",
        "    include_top=False, weights='imagenet', input_tensor=None, input_shape=(32,32,3),\n",
        "    pooling=None, classes=100, classifier_activation='softmax')\n",
        "\n",
        "\n",
        "vgg16.summary()"
      ],
      "execution_count": 16,
      "outputs": [
        {
          "output_type": "stream",
          "text": [
            "Model: \"vgg16\"\n",
            "_________________________________________________________________\n",
            "Layer (type)                 Output Shape              Param #   \n",
            "=================================================================\n",
            "input_6 (InputLayer)         [(None, 32, 32, 3)]       0         \n",
            "_________________________________________________________________\n",
            "block1_conv1 (Conv2D)        (None, 32, 32, 64)        1792      \n",
            "_________________________________________________________________\n",
            "block1_conv2 (Conv2D)        (None, 32, 32, 64)        36928     \n",
            "_________________________________________________________________\n",
            "block1_pool (MaxPooling2D)   (None, 16, 16, 64)        0         \n",
            "_________________________________________________________________\n",
            "block2_conv1 (Conv2D)        (None, 16, 16, 128)       73856     \n",
            "_________________________________________________________________\n",
            "block2_conv2 (Conv2D)        (None, 16, 16, 128)       147584    \n",
            "_________________________________________________________________\n",
            "block2_pool (MaxPooling2D)   (None, 8, 8, 128)         0         \n",
            "_________________________________________________________________\n",
            "block3_conv1 (Conv2D)        (None, 8, 8, 256)         295168    \n",
            "_________________________________________________________________\n",
            "block3_conv2 (Conv2D)        (None, 8, 8, 256)         590080    \n",
            "_________________________________________________________________\n",
            "block3_conv3 (Conv2D)        (None, 8, 8, 256)         590080    \n",
            "_________________________________________________________________\n",
            "block3_pool (MaxPooling2D)   (None, 4, 4, 256)         0         \n",
            "_________________________________________________________________\n",
            "block4_conv1 (Conv2D)        (None, 4, 4, 512)         1180160   \n",
            "_________________________________________________________________\n",
            "block4_conv2 (Conv2D)        (None, 4, 4, 512)         2359808   \n",
            "_________________________________________________________________\n",
            "block4_conv3 (Conv2D)        (None, 4, 4, 512)         2359808   \n",
            "_________________________________________________________________\n",
            "block4_pool (MaxPooling2D)   (None, 2, 2, 512)         0         \n",
            "_________________________________________________________________\n",
            "block5_conv1 (Conv2D)        (None, 2, 2, 512)         2359808   \n",
            "_________________________________________________________________\n",
            "block5_conv2 (Conv2D)        (None, 2, 2, 512)         2359808   \n",
            "_________________________________________________________________\n",
            "block5_conv3 (Conv2D)        (None, 2, 2, 512)         2359808   \n",
            "_________________________________________________________________\n",
            "block5_pool (MaxPooling2D)   (None, 1, 1, 512)         0         \n",
            "=================================================================\n",
            "Total params: 14,714,688\n",
            "Trainable params: 14,714,688\n",
            "Non-trainable params: 0\n",
            "_________________________________________________________________\n"
          ],
          "name": "stdout"
        }
      ]
    },
    {
      "cell_type": "markdown",
      "metadata": {
        "id": "CDKj17PEAN6X"
      },
      "source": [
        "### Evaluate how good is our model without training!\n"
      ]
    },
    {
      "cell_type": "code",
      "metadata": {
        "id": "i2q8myc_9YZd",
        "colab": {
          "base_uri": "https://localhost:8080/"
        },
        "outputId": "d2f52424-333c-41e8-b816-03ca5269c259"
      },
      "source": [
        "score = vgg16.evaluate(x_test, y_test, verbose=0)\n",
        "print(score[0], ' : loss')\n",
        "print(score[1]*100, '% : acc')\n",
        "\n",
        "# Why?? What happened???"
      ],
      "execution_count": 7,
      "outputs": [
        {
          "output_type": "stream",
          "text": [
            "16.370681762695312  : loss\n",
            "0.0 % : acc\n"
          ],
          "name": "stdout"
        }
      ]
    },
    {
      "cell_type": "markdown",
      "metadata": {
        "id": "mxvysdU3tafe"
      },
      "source": [
        "## Let's go step-by-step"
      ]
    },
    {
      "cell_type": "markdown",
      "metadata": {
        "id": "qSuxA1HGte8w"
      },
      "source": [
        "### Define layers to be added"
      ]
    },
    {
      "cell_type": "code",
      "metadata": {
        "id": "_yco_VAbexd2"
      },
      "source": [
        "flatten = tf.keras.layers.Flatten()\n",
        "dense1 = tf.keras.layers.Dense(200, activation='relu')\n",
        "dense2 = tf.keras.layers.Dense(200, activation='relu')\n",
        "classificator = tf.keras.layers.Dense(100, activation='softmax')"
      ],
      "execution_count": 9,
      "outputs": []
    },
    {
      "cell_type": "markdown",
      "metadata": {
        "id": "y1VVtV9duCh2"
      },
      "source": [
        "### Re-define our model"
      ]
    },
    {
      "cell_type": "markdown",
      "metadata": {
        "id": "INoyIb9CY11z"
      },
      "source": [
        "strato1 = operazione1(input)\n",
        "strato2 = operazione2(strato1)\n",
        ". . . \n"
      ]
    },
    {
      "cell_type": "code",
      "metadata": {
        "id": "L_BdHfYauCNd"
      },
      "source": [
        "inputs = tf.keras.Input(shape=(32,32, 3))\n",
        "x1 = vgg16(inputs)\n",
        "x2 = tf.keras.layers.Flatten()(x1)\n",
        "x3 = dense1(x2)\n",
        "x4 = dense2(x3)\n",
        "outputs = classificator(x4)\n",
        "\n",
        "vgg16_F = tf.keras.Model(inputs, outputs)"
      ],
      "execution_count": 19,
      "outputs": []
    },
    {
      "cell_type": "code",
      "metadata": {
        "id": "KBiFD-51hQ79",
        "colab": {
          "base_uri": "https://localhost:8080/"
        },
        "outputId": "682a5d28-cfca-4902-f1a8-48e907e4610d"
      },
      "source": [
        "vgg16_F.summary()"
      ],
      "execution_count": 12,
      "outputs": [
        {
          "output_type": "stream",
          "text": [
            "Model: \"functional_3\"\n",
            "_________________________________________________________________\n",
            "Layer (type)                 Output Shape              Param #   \n",
            "=================================================================\n",
            "input_5 (InputLayer)         [(None, 32, 32, 3)]       0         \n",
            "_________________________________________________________________\n",
            "vgg16 (Functional)           (None, 1, 1, 512)         14714688  \n",
            "_________________________________________________________________\n",
            "flatten_3 (Flatten)          (None, 512)               0         \n",
            "_________________________________________________________________\n",
            "dense (Dense)                (None, 200)               102600    \n",
            "_________________________________________________________________\n",
            "dense_1 (Dense)              (None, 200)               40200     \n",
            "_________________________________________________________________\n",
            "dense_2 (Dense)              (None, 100)               20100     \n",
            "=================================================================\n",
            "Total params: 14,877,588\n",
            "Trainable params: 14,877,588\n",
            "Non-trainable params: 0\n",
            "_________________________________________________________________\n"
          ],
          "name": "stdout"
        }
      ]
    },
    {
      "cell_type": "markdown",
      "metadata": {
        "id": "CjTuO_s6uM8E"
      },
      "source": [
        "#### RE-compile and summary"
      ]
    },
    {
      "cell_type": "code",
      "metadata": {
        "id": "zcZUG0hNsij0"
      },
      "source": [
        "#Compile architecture\n",
        "vgg16_F.compile(optimizer='adam',\n",
        "              loss='sparse_categorical_crossentropy',\n",
        "              metrics=['accuracy'])\n"
      ],
      "execution_count": 14,
      "outputs": []
    },
    {
      "cell_type": "code",
      "metadata": {
        "id": "IbHs9VlYaTom"
      },
      "source": [
        "# define callbacks\n",
        "\n",
        "%load_ext tensorboard\n",
        "log_dir = \"logs/fit/\" + datetime.datetime.now().strftime(\"%Y%m%d-%H%M%S\")\n",
        "tensorboard_callback = tf.keras.callbacks.TensorBoard(log_dir=log_dir, histogram_freq=1)\n",
        "\n",
        "# start train \n",
        "history_VGG_provafake = vgg16_F.fit(x=x_train, \n",
        "          y=y_train, \n",
        "          epochs=5,\n",
        "          validation_split=0.2, \n",
        "          callbacks=[tensorboard_callback], verbose=1)\n",
        "\n",
        "score = vgg16_F.evaluate(x_test, y_test, verbose=0)\n",
        "print(score[0], ' : loss')\n",
        "print(score[1]*100, '% : acc')"
      ],
      "execution_count": 15,
      "outputs": []
    },
    {
      "cell_type": "markdown",
      "metadata": {
        "id": "i-kzMNLrOdit"
      },
      "source": [
        "# And now? What should we do?\n",
        "\n",
        "![](https://drive.google.com/uc?export=view&id=1k9_HZH4LhYpbseIvRgQ-1ko6UF4C_hEb)\n"
      ]
    },
    {
      "cell_type": "markdown",
      "metadata": {
        "id": "l5JEjN6wsI5M"
      },
      "source": [
        "### Freeze Parameters"
      ]
    },
    {
      "cell_type": "code",
      "metadata": {
        "id": "cI9_RSisr7WB",
        "colab": {
          "base_uri": "https://localhost:8080/"
        },
        "outputId": "57f739c7-6ba5-4d88-f22c-e474d9327857"
      },
      "source": [
        "vgg16.trainable = False\n",
        "vgg16.summary()"
      ],
      "execution_count": 20,
      "outputs": [
        {
          "output_type": "stream",
          "text": [
            "Model: \"vgg16\"\n",
            "_________________________________________________________________\n",
            "Layer (type)                 Output Shape              Param #   \n",
            "=================================================================\n",
            "input_6 (InputLayer)         [(None, 32, 32, 3)]       0         \n",
            "_________________________________________________________________\n",
            "block1_conv1 (Conv2D)        (None, 32, 32, 64)        1792      \n",
            "_________________________________________________________________\n",
            "block1_conv2 (Conv2D)        (None, 32, 32, 64)        36928     \n",
            "_________________________________________________________________\n",
            "block1_pool (MaxPooling2D)   (None, 16, 16, 64)        0         \n",
            "_________________________________________________________________\n",
            "block2_conv1 (Conv2D)        (None, 16, 16, 128)       73856     \n",
            "_________________________________________________________________\n",
            "block2_conv2 (Conv2D)        (None, 16, 16, 128)       147584    \n",
            "_________________________________________________________________\n",
            "block2_pool (MaxPooling2D)   (None, 8, 8, 128)         0         \n",
            "_________________________________________________________________\n",
            "block3_conv1 (Conv2D)        (None, 8, 8, 256)         295168    \n",
            "_________________________________________________________________\n",
            "block3_conv2 (Conv2D)        (None, 8, 8, 256)         590080    \n",
            "_________________________________________________________________\n",
            "block3_conv3 (Conv2D)        (None, 8, 8, 256)         590080    \n",
            "_________________________________________________________________\n",
            "block3_pool (MaxPooling2D)   (None, 4, 4, 256)         0         \n",
            "_________________________________________________________________\n",
            "block4_conv1 (Conv2D)        (None, 4, 4, 512)         1180160   \n",
            "_________________________________________________________________\n",
            "block4_conv2 (Conv2D)        (None, 4, 4, 512)         2359808   \n",
            "_________________________________________________________________\n",
            "block4_conv3 (Conv2D)        (None, 4, 4, 512)         2359808   \n",
            "_________________________________________________________________\n",
            "block4_pool (MaxPooling2D)   (None, 2, 2, 512)         0         \n",
            "_________________________________________________________________\n",
            "block5_conv1 (Conv2D)        (None, 2, 2, 512)         2359808   \n",
            "_________________________________________________________________\n",
            "block5_conv2 (Conv2D)        (None, 2, 2, 512)         2359808   \n",
            "_________________________________________________________________\n",
            "block5_conv3 (Conv2D)        (None, 2, 2, 512)         2359808   \n",
            "_________________________________________________________________\n",
            "block5_pool (MaxPooling2D)   (None, 1, 1, 512)         0         \n",
            "=================================================================\n",
            "Total params: 14,714,688\n",
            "Trainable params: 0\n",
            "Non-trainable params: 14,714,688\n",
            "_________________________________________________________________\n"
          ],
          "name": "stdout"
        }
      ]
    },
    {
      "cell_type": "code",
      "metadata": {
        "id": "ahBhU-ZMoo96",
        "colab": {
          "base_uri": "https://localhost:8080/"
        },
        "outputId": "a1afc318-c98f-47e3-d8d2-e96fdcd1f2cd"
      },
      "source": [
        "vgg16_F.trainable = True\n",
        "vgg16.trainable = False\n",
        "\n",
        "vgg16_F.summary()"
      ],
      "execution_count": 24,
      "outputs": [
        {
          "output_type": "stream",
          "text": [
            "Model: \"functional_5\"\n",
            "_________________________________________________________________\n",
            "Layer (type)                 Output Shape              Param #   \n",
            "=================================================================\n",
            "input_7 (InputLayer)         [(None, 32, 32, 3)]       0         \n",
            "_________________________________________________________________\n",
            "vgg16 (Functional)           (None, 1, 1, 512)         14714688  \n",
            "_________________________________________________________________\n",
            "flatten_4 (Flatten)          (None, 512)               0         \n",
            "_________________________________________________________________\n",
            "dense (Dense)                (None, 200)               102600    \n",
            "_________________________________________________________________\n",
            "dense_1 (Dense)              (None, 200)               40200     \n",
            "_________________________________________________________________\n",
            "dense_2 (Dense)              (None, 100)               20100     \n",
            "=================================================================\n",
            "Total params: 14,877,588\n",
            "Trainable params: 162,900\n",
            "Non-trainable params: 14,714,688\n",
            "_________________________________________________________________\n"
          ],
          "name": "stdout"
        }
      ]
    },
    {
      "cell_type": "markdown",
      "metadata": {
        "id": "wLT9EtkvvERD"
      },
      "source": [
        "## Evaluate directly!"
      ]
    },
    {
      "cell_type": "code",
      "metadata": {
        "id": "SraEbF_9ASW0",
        "colab": {
          "base_uri": "https://localhost:8080/",
          "height": 310
        },
        "outputId": "585faffa-0d6b-4064-e4ce-6290c9819183"
      },
      "source": [
        "# define callbacks\n",
        "\n",
        "%load_ext tensorboard\n",
        "log_dir = \"logs/fit/\" + datetime.datetime.now().strftime(\"%Y%m%d-%H%M%S\")\n",
        "tensorboard_callback = tf.keras.callbacks.TensorBoard(log_dir=log_dir, histogram_freq=1)\n",
        "\n",
        "# start train \n",
        "history_VGG16_4 = vgg16_F.fit(x=x_train, \n",
        "          y=y_train, \n",
        "          epochs=5,\n",
        "          validation_split=0.2, \n",
        "          callbacks=[tensorboard_callback], verbose=1)\n",
        "\n",
        "score = vgg16_F.evaluate(x_test, y_test, verbose=0)\n",
        "print(score[0], ' : loss')\n",
        "print(score[1]*100, '% : acc')"
      ],
      "execution_count": null,
      "outputs": [
        {
          "output_type": "stream",
          "text": [
            "The tensorboard extension is already loaded. To reload it, use:\n",
            "  %reload_ext tensorboard\n",
            "Epoch 1/5\n",
            "   2/1250 [..............................] - ETA: 34s - loss: 41181152.0000 - accuracy: 0.0000e+00WARNING:tensorflow:Callbacks method `on_train_batch_end` is slow compared to the batch time (batch time: 0.0071s vs `on_train_batch_end` time: 0.0471s). Check your callbacks.\n",
            "1250/1250 [==============================] - 18s 14ms/step - loss: 2765401.5000 - accuracy: 0.0106 - val_loss: 4.6050 - val_accuracy: 0.0104\n",
            "Epoch 2/5\n",
            "1250/1250 [==============================] - 18s 14ms/step - loss: 4.6055 - accuracy: 0.0098 - val_loss: 4.6056 - val_accuracy: 0.0086\n",
            "Epoch 3/5\n",
            "1250/1250 [==============================] - 18s 14ms/step - loss: 4.6055 - accuracy: 0.0101 - val_loss: 4.6064 - val_accuracy: 0.0084\n",
            "Epoch 4/5\n",
            "1250/1250 [==============================] - 18s 14ms/step - loss: 4.6056 - accuracy: 0.0098 - val_loss: 4.6071 - val_accuracy: 0.0084\n",
            "Epoch 5/5\n",
            "1250/1250 [==============================] - 18s 14ms/step - loss: 4.6056 - accuracy: 0.0095 - val_loss: 4.6074 - val_accuracy: 0.0084\n",
            "4.6053972244262695  : loss\n",
            "0.9999999776482582 % : acc\n"
          ],
          "name": "stdout"
        }
      ]
    },
    {
      "cell_type": "code",
      "metadata": {
        "id": "I3Uku4GQvEqx"
      },
      "source": [
        ""
      ],
      "execution_count": null,
      "outputs": []
    },
    {
      "cell_type": "markdown",
      "metadata": {
        "id": "FczYioUrzxMS"
      },
      "source": [
        "## Transfer Learning as Weights Initialization"
      ]
    },
    {
      "cell_type": "code",
      "metadata": {
        "id": "z36zDRiSvNdF",
        "colab": {
          "base_uri": "https://localhost:8080/"
        },
        "outputId": "a5179f26-9040-44c3-f16e-a4f0436c24f8"
      },
      "source": [
        "vgg16_WI = vgg16_F\n",
        "vgg16_WI.trainable = True\n",
        "vgg16_WI.summary()"
      ],
      "execution_count": 25,
      "outputs": [
        {
          "output_type": "stream",
          "text": [
            "Model: \"functional_5\"\n",
            "_________________________________________________________________\n",
            "Layer (type)                 Output Shape              Param #   \n",
            "=================================================================\n",
            "input_7 (InputLayer)         [(None, 32, 32, 3)]       0         \n",
            "_________________________________________________________________\n",
            "vgg16 (Functional)           (None, 1, 1, 512)         14714688  \n",
            "_________________________________________________________________\n",
            "flatten_4 (Flatten)          (None, 512)               0         \n",
            "_________________________________________________________________\n",
            "dense (Dense)                (None, 200)               102600    \n",
            "_________________________________________________________________\n",
            "dense_1 (Dense)              (None, 200)               40200     \n",
            "_________________________________________________________________\n",
            "dense_2 (Dense)              (None, 100)               20100     \n",
            "=================================================================\n",
            "Total params: 14,877,588\n",
            "Trainable params: 14,877,588\n",
            "Non-trainable params: 0\n",
            "_________________________________________________________________\n"
          ],
          "name": "stdout"
        }
      ]
    },
    {
      "cell_type": "code",
      "metadata": {
        "id": "pHrZVbQavNn6"
      },
      "source": [
        "# define callbacks\n",
        "\n",
        "%load_ext tensorboard\n",
        "log_dir = \"logs/fit/\" + datetime.datetime.now().strftime(\"%Y%m%d-%H%M%S\")\n",
        "tensorboard_callback = tf.keras.callbacks.TensorBoard(log_dir=log_dir, histogram_freq=1)\n",
        "\n",
        "# start train \n",
        "history_VGG = vgg19_WI.fit(x=x_train, \n",
        "          y=y_train, \n",
        "          epochs=5,\n",
        "          validation_split=0.2, \n",
        "          callbacks=[tensorboard_callback], verbose=1)\n",
        "\n",
        "score = vgg19_WI.evaluate(x_test, y_test, verbose=0)\n",
        "print(score[0], ' : loss')\n",
        "print(score[1]*100, '% : acc')"
      ],
      "execution_count": null,
      "outputs": []
    },
    {
      "cell_type": "markdown",
      "metadata": {
        "id": "DBcVMQiMzxMT"
      },
      "source": [
        "![](https://github.com/matteoalberti/Lectures_introCV_Experis2020/blob/main/images/DL4CV1.png?raw=1)"
      ]
    },
    {
      "cell_type": "markdown",
      "metadata": {
        "id": "DkySA_MZzxMm"
      },
      "source": [
        "## Transfer Learning as Features Extractor"
      ]
    },
    {
      "cell_type": "code",
      "metadata": {
        "id": "iSZnevviwDu2",
        "colab": {
          "base_uri": "https://localhost:8080/",
          "height": 755
        },
        "outputId": "967d4f9a-fbc5-4e6d-ea39-d6acb1154bf7"
      },
      "source": [
        "pd.set_option('max_colwidth', -1)\n",
        "\n",
        "layers = [(layer.name, layer.trainable) for layer in vgg16_WI.layers]\n",
        "\n",
        "layers_initial = [(layer.name, layer.trainable) for layer in vgg16.layers]\n",
        "\n",
        "vgg_initial = pd.DataFrame(layers_initial, columns=['Layer Name', 'Layer Trainable'])\n",
        "vgg_model = pd.DataFrame(layers, columns=['Layer Name', 'Layer Trainable'])\n",
        "\n",
        "vgg_trainable = pd.concat([vgg_initial, vgg_model[2:]])\n",
        "\n",
        "vgg_trainable.head(100)"
      ],
      "execution_count": 28,
      "outputs": [
        {
          "output_type": "stream",
          "text": [
            "__main__:1: FutureWarning: Passing a negative integer is deprecated in version 1.0 and will not be supported in future version. Instead, use None to not limit the column width.\n"
          ],
          "name": "stderr"
        },
        {
          "output_type": "execute_result",
          "data": {
            "text/html": [
              "<div>\n",
              "<style scoped>\n",
              "    .dataframe tbody tr th:only-of-type {\n",
              "        vertical-align: middle;\n",
              "    }\n",
              "\n",
              "    .dataframe tbody tr th {\n",
              "        vertical-align: top;\n",
              "    }\n",
              "\n",
              "    .dataframe thead th {\n",
              "        text-align: right;\n",
              "    }\n",
              "</style>\n",
              "<table border=\"1\" class=\"dataframe\">\n",
              "  <thead>\n",
              "    <tr style=\"text-align: right;\">\n",
              "      <th></th>\n",
              "      <th>Layer Name</th>\n",
              "      <th>Layer Trainable</th>\n",
              "    </tr>\n",
              "  </thead>\n",
              "  <tbody>\n",
              "    <tr>\n",
              "      <th>0</th>\n",
              "      <td>input_6</td>\n",
              "      <td>True</td>\n",
              "    </tr>\n",
              "    <tr>\n",
              "      <th>1</th>\n",
              "      <td>block1_conv1</td>\n",
              "      <td>True</td>\n",
              "    </tr>\n",
              "    <tr>\n",
              "      <th>2</th>\n",
              "      <td>block1_conv2</td>\n",
              "      <td>True</td>\n",
              "    </tr>\n",
              "    <tr>\n",
              "      <th>3</th>\n",
              "      <td>block1_pool</td>\n",
              "      <td>True</td>\n",
              "    </tr>\n",
              "    <tr>\n",
              "      <th>4</th>\n",
              "      <td>block2_conv1</td>\n",
              "      <td>True</td>\n",
              "    </tr>\n",
              "    <tr>\n",
              "      <th>5</th>\n",
              "      <td>block2_conv2</td>\n",
              "      <td>True</td>\n",
              "    </tr>\n",
              "    <tr>\n",
              "      <th>6</th>\n",
              "      <td>block2_pool</td>\n",
              "      <td>True</td>\n",
              "    </tr>\n",
              "    <tr>\n",
              "      <th>7</th>\n",
              "      <td>block3_conv1</td>\n",
              "      <td>True</td>\n",
              "    </tr>\n",
              "    <tr>\n",
              "      <th>8</th>\n",
              "      <td>block3_conv2</td>\n",
              "      <td>True</td>\n",
              "    </tr>\n",
              "    <tr>\n",
              "      <th>9</th>\n",
              "      <td>block3_conv3</td>\n",
              "      <td>True</td>\n",
              "    </tr>\n",
              "    <tr>\n",
              "      <th>10</th>\n",
              "      <td>block3_pool</td>\n",
              "      <td>True</td>\n",
              "    </tr>\n",
              "    <tr>\n",
              "      <th>11</th>\n",
              "      <td>block4_conv1</td>\n",
              "      <td>True</td>\n",
              "    </tr>\n",
              "    <tr>\n",
              "      <th>12</th>\n",
              "      <td>block4_conv2</td>\n",
              "      <td>True</td>\n",
              "    </tr>\n",
              "    <tr>\n",
              "      <th>13</th>\n",
              "      <td>block4_conv3</td>\n",
              "      <td>True</td>\n",
              "    </tr>\n",
              "    <tr>\n",
              "      <th>14</th>\n",
              "      <td>block4_pool</td>\n",
              "      <td>True</td>\n",
              "    </tr>\n",
              "    <tr>\n",
              "      <th>15</th>\n",
              "      <td>block5_conv1</td>\n",
              "      <td>True</td>\n",
              "    </tr>\n",
              "    <tr>\n",
              "      <th>16</th>\n",
              "      <td>block5_conv2</td>\n",
              "      <td>True</td>\n",
              "    </tr>\n",
              "    <tr>\n",
              "      <th>17</th>\n",
              "      <td>block5_conv3</td>\n",
              "      <td>True</td>\n",
              "    </tr>\n",
              "    <tr>\n",
              "      <th>18</th>\n",
              "      <td>block5_pool</td>\n",
              "      <td>True</td>\n",
              "    </tr>\n",
              "    <tr>\n",
              "      <th>2</th>\n",
              "      <td>flatten_4</td>\n",
              "      <td>True</td>\n",
              "    </tr>\n",
              "    <tr>\n",
              "      <th>3</th>\n",
              "      <td>dense</td>\n",
              "      <td>True</td>\n",
              "    </tr>\n",
              "    <tr>\n",
              "      <th>4</th>\n",
              "      <td>dense_1</td>\n",
              "      <td>True</td>\n",
              "    </tr>\n",
              "    <tr>\n",
              "      <th>5</th>\n",
              "      <td>dense_2</td>\n",
              "      <td>True</td>\n",
              "    </tr>\n",
              "  </tbody>\n",
              "</table>\n",
              "</div>"
            ],
            "text/plain": [
              "      Layer Name  Layer Trainable\n",
              "0   input_6       True           \n",
              "1   block1_conv1  True           \n",
              "2   block1_conv2  True           \n",
              "3   block1_pool   True           \n",
              "4   block2_conv1  True           \n",
              "5   block2_conv2  True           \n",
              "6   block2_pool   True           \n",
              "7   block3_conv1  True           \n",
              "8   block3_conv2  True           \n",
              "9   block3_conv3  True           \n",
              "10  block3_pool   True           \n",
              "11  block4_conv1  True           \n",
              "12  block4_conv2  True           \n",
              "13  block4_conv3  True           \n",
              "14  block4_pool   True           \n",
              "15  block5_conv1  True           \n",
              "16  block5_conv2  True           \n",
              "17  block5_conv3  True           \n",
              "18  block5_pool   True           \n",
              "2   flatten_4     True           \n",
              "3   dense         True           \n",
              "4   dense_1       True           \n",
              "5   dense_2       True           "
            ]
          },
          "metadata": {
            "tags": []
          },
          "execution_count": 28
        }
      ]
    },
    {
      "cell_type": "markdown",
      "metadata": {
        "id": "rO1d4B6M1Yfn"
      },
      "source": [
        "## Freeze only some layers"
      ]
    },
    {
      "cell_type": "code",
      "metadata": {
        "colab": {
          "base_uri": "https://localhost:8080/"
        },
        "id": "4ZK2FG0rejk-",
        "outputId": "86058f63-8f07-4af1-fd45-79c66e37d36a"
      },
      "source": [
        "vgg16.layers[:11]"
      ],
      "execution_count": 30,
      "outputs": [
        {
          "output_type": "execute_result",
          "data": {
            "text/plain": [
              "[<tensorflow.python.keras.engine.input_layer.InputLayer at 0x7fcbd454dfd0>,\n",
              " <tensorflow.python.keras.layers.convolutional.Conv2D at 0x7fcbd44f0160>,\n",
              " <tensorflow.python.keras.layers.convolutional.Conv2D at 0x7fcbdc242748>,\n",
              " <tensorflow.python.keras.layers.pooling.MaxPooling2D at 0x7fcbd44f0b70>,\n",
              " <tensorflow.python.keras.layers.convolutional.Conv2D at 0x7fcbd44f0390>,\n",
              " <tensorflow.python.keras.layers.convolutional.Conv2D at 0x7fcbd44f0198>,\n",
              " <tensorflow.python.keras.layers.pooling.MaxPooling2D at 0x7fcbd4502588>,\n",
              " <tensorflow.python.keras.layers.convolutional.Conv2D at 0x7fcbd44fbdd8>,\n",
              " <tensorflow.python.keras.layers.convolutional.Conv2D at 0x7fcbd44fb358>,\n",
              " <tensorflow.python.keras.layers.convolutional.Conv2D at 0x7fcbd450c7f0>,\n",
              " <tensorflow.python.keras.layers.pooling.MaxPooling2D at 0x7fcbd4513b00>]"
            ]
          },
          "metadata": {
            "tags": []
          },
          "execution_count": 30
        }
      ]
    },
    {
      "cell_type": "code",
      "metadata": {
        "id": "_9hV_LN31NEE",
        "colab": {
          "base_uri": "https://localhost:8080/",
          "height": 755
        },
        "outputId": "dc403557-4cc3-4a75-88a7-e3248127362f"
      },
      "source": [
        "# Freeze all the layers before the `fine_tune_at` layer\n",
        "for layer in vgg16.layers[:11]:\n",
        "  layer.trainable =  False\n",
        "\n",
        "\n",
        "pd.set_option('max_colwidth', -1)\n",
        "\n",
        "layers = [(layer.name, layer.trainable) for layer in vgg16_WI.layers]\n",
        "layers_initial = [(layer.name, layer.trainable) for layer in vgg16.layers]\n",
        "\n",
        "vgg_initial = pd.DataFrame(layers_initial, columns=['Layer Name', 'Layer Trainable'])\n",
        "vgg_model = pd.DataFrame(layers, columns=['Layer Name', 'Layer Trainable'])\n",
        "\n",
        "vgg_trainable = pd.concat([vgg_initial, vgg_model[2:]])\n",
        "\n",
        "vgg_trainable.head(100)"
      ],
      "execution_count": 31,
      "outputs": [
        {
          "output_type": "stream",
          "text": [
            "__main__:6: FutureWarning: Passing a negative integer is deprecated in version 1.0 and will not be supported in future version. Instead, use None to not limit the column width.\n"
          ],
          "name": "stderr"
        },
        {
          "output_type": "execute_result",
          "data": {
            "text/html": [
              "<div>\n",
              "<style scoped>\n",
              "    .dataframe tbody tr th:only-of-type {\n",
              "        vertical-align: middle;\n",
              "    }\n",
              "\n",
              "    .dataframe tbody tr th {\n",
              "        vertical-align: top;\n",
              "    }\n",
              "\n",
              "    .dataframe thead th {\n",
              "        text-align: right;\n",
              "    }\n",
              "</style>\n",
              "<table border=\"1\" class=\"dataframe\">\n",
              "  <thead>\n",
              "    <tr style=\"text-align: right;\">\n",
              "      <th></th>\n",
              "      <th>Layer Name</th>\n",
              "      <th>Layer Trainable</th>\n",
              "    </tr>\n",
              "  </thead>\n",
              "  <tbody>\n",
              "    <tr>\n",
              "      <th>0</th>\n",
              "      <td>input_6</td>\n",
              "      <td>False</td>\n",
              "    </tr>\n",
              "    <tr>\n",
              "      <th>1</th>\n",
              "      <td>block1_conv1</td>\n",
              "      <td>False</td>\n",
              "    </tr>\n",
              "    <tr>\n",
              "      <th>2</th>\n",
              "      <td>block1_conv2</td>\n",
              "      <td>False</td>\n",
              "    </tr>\n",
              "    <tr>\n",
              "      <th>3</th>\n",
              "      <td>block1_pool</td>\n",
              "      <td>False</td>\n",
              "    </tr>\n",
              "    <tr>\n",
              "      <th>4</th>\n",
              "      <td>block2_conv1</td>\n",
              "      <td>False</td>\n",
              "    </tr>\n",
              "    <tr>\n",
              "      <th>5</th>\n",
              "      <td>block2_conv2</td>\n",
              "      <td>False</td>\n",
              "    </tr>\n",
              "    <tr>\n",
              "      <th>6</th>\n",
              "      <td>block2_pool</td>\n",
              "      <td>False</td>\n",
              "    </tr>\n",
              "    <tr>\n",
              "      <th>7</th>\n",
              "      <td>block3_conv1</td>\n",
              "      <td>False</td>\n",
              "    </tr>\n",
              "    <tr>\n",
              "      <th>8</th>\n",
              "      <td>block3_conv2</td>\n",
              "      <td>False</td>\n",
              "    </tr>\n",
              "    <tr>\n",
              "      <th>9</th>\n",
              "      <td>block3_conv3</td>\n",
              "      <td>False</td>\n",
              "    </tr>\n",
              "    <tr>\n",
              "      <th>10</th>\n",
              "      <td>block3_pool</td>\n",
              "      <td>False</td>\n",
              "    </tr>\n",
              "    <tr>\n",
              "      <th>11</th>\n",
              "      <td>block4_conv1</td>\n",
              "      <td>True</td>\n",
              "    </tr>\n",
              "    <tr>\n",
              "      <th>12</th>\n",
              "      <td>block4_conv2</td>\n",
              "      <td>True</td>\n",
              "    </tr>\n",
              "    <tr>\n",
              "      <th>13</th>\n",
              "      <td>block4_conv3</td>\n",
              "      <td>True</td>\n",
              "    </tr>\n",
              "    <tr>\n",
              "      <th>14</th>\n",
              "      <td>block4_pool</td>\n",
              "      <td>True</td>\n",
              "    </tr>\n",
              "    <tr>\n",
              "      <th>15</th>\n",
              "      <td>block5_conv1</td>\n",
              "      <td>True</td>\n",
              "    </tr>\n",
              "    <tr>\n",
              "      <th>16</th>\n",
              "      <td>block5_conv2</td>\n",
              "      <td>True</td>\n",
              "    </tr>\n",
              "    <tr>\n",
              "      <th>17</th>\n",
              "      <td>block5_conv3</td>\n",
              "      <td>True</td>\n",
              "    </tr>\n",
              "    <tr>\n",
              "      <th>18</th>\n",
              "      <td>block5_pool</td>\n",
              "      <td>True</td>\n",
              "    </tr>\n",
              "    <tr>\n",
              "      <th>2</th>\n",
              "      <td>flatten_4</td>\n",
              "      <td>True</td>\n",
              "    </tr>\n",
              "    <tr>\n",
              "      <th>3</th>\n",
              "      <td>dense</td>\n",
              "      <td>True</td>\n",
              "    </tr>\n",
              "    <tr>\n",
              "      <th>4</th>\n",
              "      <td>dense_1</td>\n",
              "      <td>True</td>\n",
              "    </tr>\n",
              "    <tr>\n",
              "      <th>5</th>\n",
              "      <td>dense_2</td>\n",
              "      <td>True</td>\n",
              "    </tr>\n",
              "  </tbody>\n",
              "</table>\n",
              "</div>"
            ],
            "text/plain": [
              "      Layer Name  Layer Trainable\n",
              "0   input_6       False          \n",
              "1   block1_conv1  False          \n",
              "2   block1_conv2  False          \n",
              "3   block1_pool   False          \n",
              "4   block2_conv1  False          \n",
              "5   block2_conv2  False          \n",
              "6   block2_pool   False          \n",
              "7   block3_conv1  False          \n",
              "8   block3_conv2  False          \n",
              "9   block3_conv3  False          \n",
              "10  block3_pool   False          \n",
              "11  block4_conv1  True           \n",
              "12  block4_conv2  True           \n",
              "13  block4_conv3  True           \n",
              "14  block4_pool   True           \n",
              "15  block5_conv1  True           \n",
              "16  block5_conv2  True           \n",
              "17  block5_conv3  True           \n",
              "18  block5_pool   True           \n",
              "2   flatten_4     True           \n",
              "3   dense         True           \n",
              "4   dense_1       True           \n",
              "5   dense_2       True           "
            ]
          },
          "metadata": {
            "tags": []
          },
          "execution_count": 31
        }
      ]
    },
    {
      "cell_type": "code",
      "metadata": {
        "colab": {
          "base_uri": "https://localhost:8080/"
        },
        "id": "yXNfYX19fA-6",
        "outputId": "4ab14538-b184-48c7-d620-e15e643fea13"
      },
      "source": [
        "vgg16_FE = vgg16_WI\n",
        "\n",
        "vgg16_FE.summary()"
      ],
      "execution_count": 32,
      "outputs": [
        {
          "output_type": "stream",
          "text": [
            "Model: \"functional_5\"\n",
            "_________________________________________________________________\n",
            "Layer (type)                 Output Shape              Param #   \n",
            "=================================================================\n",
            "input_7 (InputLayer)         [(None, 32, 32, 3)]       0         \n",
            "_________________________________________________________________\n",
            "vgg16 (Functional)           (None, 1, 1, 512)         14714688  \n",
            "_________________________________________________________________\n",
            "flatten_4 (Flatten)          (None, 512)               0         \n",
            "_________________________________________________________________\n",
            "dense (Dense)                (None, 200)               102600    \n",
            "_________________________________________________________________\n",
            "dense_1 (Dense)              (None, 200)               40200     \n",
            "_________________________________________________________________\n",
            "dense_2 (Dense)              (None, 100)               20100     \n",
            "=================================================================\n",
            "Total params: 14,877,588\n",
            "Trainable params: 13,142,100\n",
            "Non-trainable params: 1,735,488\n",
            "_________________________________________________________________\n"
          ],
          "name": "stdout"
        }
      ]
    },
    {
      "cell_type": "markdown",
      "metadata": {
        "id": "1BQWcOAjfj2A"
      },
      "source": [
        "## Exercise"
      ]
    },
    {
      "cell_type": "code",
      "metadata": {
        "id": "HAGHXN91fiRH"
      },
      "source": [
        "# loading cifar100\n",
        "\n",
        "# define VGG11 and train\n",
        "\n",
        "# save_weights (con model.save_weights)\n",
        "\n"
      ],
      "execution_count": null,
      "outputs": []
    },
    {
      "cell_type": "markdown",
      "metadata": {
        "id": "NlOYLuQ4f8er"
      },
      "source": [
        "## Applichiamo su un nuovo dataset. \n",
        "\n",
        "      cifar10\n",
        "\n",
        "*domanda*\n",
        "\n",
        "cifar10  simile o no a cifra100? cosa dobbiamo cambiare??"
      ]
    },
    {
      "cell_type": "code",
      "metadata": {
        "id": "o6HUIaq7mIJM",
        "outputId": "8599ffd7-3174-47bd-adf9-b72243ef1fc6",
        "colab": {
          "base_uri": "https://localhost:8080/"
        }
      },
      "source": [
        "(x_train10, y_train10), (x_test10, y_test10) = tf.keras.datasets.cifar10.load_data()\n",
        "\n",
        "print(x_train10.shape, y_train10.shape, x_test10.shape, y_test10.shape)\n",
        "\n",
        "#The range for each individual colour is 0-255\n",
        "x_train10 = x_train10.astype('float32')/255 \n",
        "x_test10 = x_test10.astype('float32')/255"
      ],
      "execution_count": 4,
      "outputs": [
        {
          "output_type": "stream",
          "text": [
            "Downloading data from https://www.cs.toronto.edu/~kriz/cifar-10-python.tar.gz\n",
            "170500096/170498071 [==============================] - 2s 0us/step\n",
            "(50000, 32, 32, 3) (50000, 1) (10000, 32, 32, 3) (10000, 1)\n"
          ],
          "name": "stdout"
        }
      ]
    },
    {
      "cell_type": "code",
      "metadata": {
        "id": "hQfnQLW0mPiZ",
        "outputId": "823b5bd1-f0f8-45c8-eaa5-d186ed9d49d0",
        "colab": {
          "base_uri": "https://localhost:8080/"
        }
      },
      "source": [
        "(x_train100, y_train100), (x_test100, y_test100) = tf.keras.datasets.cifar100.load_data()\n",
        "\n",
        "print(x_train100.shape, y_train100.shape, x_test100.shape, y_test100.shape)\n",
        "\n",
        "#The range for each individual colour is 0-255\n",
        "x_train100 = x_train100.astype('float32')/255 \n",
        "x_test100 = x_test100.astype('float32')/255"
      ],
      "execution_count": 5,
      "outputs": [
        {
          "output_type": "stream",
          "text": [
            "Downloading data from https://www.cs.toronto.edu/~kriz/cifar-100-python.tar.gz\n",
            "169009152/169001437 [==============================] - 5s 0us/step\n",
            "(50000, 32, 32, 3) (50000, 1) (10000, 32, 32, 3) (10000, 1)\n"
          ],
          "name": "stdout"
        }
      ]
    },
    {
      "cell_type": "code",
      "metadata": {
        "id": "glR5_W66fiUG"
      },
      "source": [
        "# redefine modello2 (num_classes)\n",
        "\n",
        "# load_weights (modello2.load_weights(percorso))\n",
        "\n",
        "# compile\n",
        "\n",
        "\n",
        "# Choose! 1-2-3-4?\n",
        "\n",
        "# model.fit\n",
        "\n",
        "# model.evaluate"
      ],
      "execution_count": 6,
      "outputs": []
    },
    {
      "cell_type": "code",
      "metadata": {
        "id": "MrvWltVGlUeF"
      },
      "source": [
        "#Instantiate an empty model\n",
        "\n",
        "def VGG_blocks1(n_conv, rec_field, act):\n",
        "  return tf.keras.models.Sequential([    \n",
        "  tf.keras.layers.Conv2D(n_conv, rec_field, padding='same', activation=act),\n",
        "  tf.keras.layers.Conv2D(n_conv, rec_field, activation=act, padding='same'),\n",
        "  tf.keras.layers.MaxPooling2D(pool_size=(2, 2), strides=(2, 2))])\n",
        "\n",
        "def VGG_blocks2(n_conv, rec_field, act):\n",
        "  return tf.keras.models.Sequential([    \n",
        "  tf.keras.layers.Conv2D(n_conv, rec_field, padding='same', activation=act),\n",
        "  tf.keras.layers.Conv2D(n_conv, rec_field, padding='same', activation=act),\n",
        "  tf.keras.layers.Conv2D(n_conv, rec_field, padding='same', activation=act),\n",
        "  tf.keras.layers.MaxPooling2D(pool_size=(2, 2), strides=(2, 2))])\n",
        "\n",
        "def CLASSIFICATION(n_dense, n_classes):\n",
        "  return tf.keras.models.Sequential([\n",
        "  tf.keras.layers.Dense(n_dense, activation='relu'),\n",
        "  tf.keras.layers.Dense(n_dense, activation='relu'),\n",
        "  tf.keras.layers.Dense(n_classes, activation='softmax')])"
      ],
      "execution_count": 7,
      "outputs": []
    },
    {
      "cell_type": "code",
      "metadata": {
        "id": "nb5q_6fVlall",
        "outputId": "316c467a-404c-4025-95da-a0fd1f45a561",
        "colab": {
          "base_uri": "https://localhost:8080/"
        }
      },
      "source": [
        "inputs = tf.keras.Input(shape=(32,32,3))\n",
        "\n",
        "#features extractor\n",
        "x = VGG_blocks1(n_conv=64, rec_field=(3,3), act='relu')(inputs)\n",
        "x = VGG_blocks1(n_conv=128, rec_field=(3,3), act='relu')(x)\n",
        "x = VGG_blocks2(n_conv=256, rec_field=(3,3), act='relu')(x)\n",
        "x = VGG_blocks2(n_conv=512, rec_field=(3,3), act='relu')(x)\n",
        "\n",
        "#classification\n",
        "x = tf.keras.layers.Flatten()(x)\n",
        "outputs = CLASSIFICATION(n_dense=256, n_classes=100)(x)\n",
        "\n",
        "\n",
        "VGG_EASY = tf.keras.Model(inputs, outputs)\n",
        "\n",
        "\n",
        "#Compile architecture\n",
        "VGG_EASY.compile(optimizer='adam',\n",
        "              loss='sparse_categorical_crossentropy',\n",
        "              metrics=['accuracy'])\n",
        "\n",
        "VGG_EASY.layers[1]._name = \"first_conv_block\"\n",
        "VGG_EASY.layers[2]._name = \"second_conv_block_2\"\n",
        "VGG_EASY.layers[3]._name = \"3rd_conv_block_3\"\n",
        "VGG_EASY.layers[4]._name = \"4th_conv_block_3\"\n",
        "VGG_EASY.layers[6]._name = \"classification_block_3\"\n",
        "\n",
        "VGG_EASY.summary()"
      ],
      "execution_count": 8,
      "outputs": [
        {
          "output_type": "stream",
          "text": [
            "Model: \"functional_1\"\n",
            "_________________________________________________________________\n",
            "Layer (type)                 Output Shape              Param #   \n",
            "=================================================================\n",
            "input_1 (InputLayer)         [(None, 32, 32, 3)]       0         \n",
            "_________________________________________________________________\n",
            "first_conv_block (Sequential (None, 16, 16, 64)        38720     \n",
            "_________________________________________________________________\n",
            "second_conv_block_2 (Sequent (None, 8, 8, 128)         221440    \n",
            "_________________________________________________________________\n",
            "3rd_conv_block_3 (Sequential (None, 4, 4, 256)         1475328   \n",
            "_________________________________________________________________\n",
            "4th_conv_block_3 (Sequential (None, 2, 2, 512)         5899776   \n",
            "_________________________________________________________________\n",
            "flatten (Flatten)            (None, 2048)              0         \n",
            "_________________________________________________________________\n",
            "classification_block_3 (Sequ (None, 100)               616036    \n",
            "=================================================================\n",
            "Total params: 8,251,300\n",
            "Trainable params: 8,251,300\n",
            "Non-trainable params: 0\n",
            "_________________________________________________________________\n"
          ],
          "name": "stdout"
        }
      ]
    },
    {
      "cell_type": "code",
      "metadata": {
        "id": "McIalGdHn1kd"
      },
      "source": [
        "# define callbacks\n",
        "\n",
        "%reload_ext tensorboard\n",
        "log_dir = \"logs/fit/base_cifar100\" + datetime.datetime.now().strftime(\"%Y%m%d-%H%M%S\")\n",
        "tensorboard_callback = tf.keras.callbacks.TensorBoard(log_dir=log_dir, histogram_freq=1)\n",
        "\n",
        "# start train \n",
        "history_VGG_cifar100 = VGG_EASY.fit(x=x_train100, \n",
        "          y=y_train100, \n",
        "          epochs=30,\n",
        "          validation_split=0.2, \n",
        "          callbacks=[tensorboard_callback], verbose=1)\n",
        "\n",
        "score = VGG_EASY.evaluate(x_test100, y_test100, verbose=0)\n",
        "print(score[0], ' : loss on cifar100')\n",
        "print(score[1]*100, '% : acc on cifar100')"
      ],
      "execution_count": 80,
      "outputs": []
    },
    {
      "cell_type": "code",
      "metadata": {
        "id": "bIKYOQ-CqYvj"
      },
      "source": [
        "! mkdir weights"
      ],
      "execution_count": null,
      "outputs": []
    },
    {
      "cell_type": "code",
      "metadata": {
        "id": "1Vuv52hnosys"
      },
      "source": [
        "# export weights\n",
        "\n",
        "VGG_EASY.save_weights('weights/VGG11_cifar100.h5')"
      ],
      "execution_count": null,
      "outputs": []
    },
    {
      "cell_type": "markdown",
      "metadata": {
        "id": "1o3D_e5a7u9U"
      },
      "source": [
        "### Which case???\n",
        "\n",
        "![](https://drive.google.com/uc?export=view&id=1k9_HZH4LhYpbseIvRgQ-1ko6UF4C_hEb)\n",
        "\n"
      ]
    },
    {
      "cell_type": "markdown",
      "metadata": {
        "id": "PhbGHJa1phj0"
      },
      "source": [
        "## Let's try all!\n",
        "\n",
        "*Test on cifar10!*"
      ]
    },
    {
      "cell_type": "code",
      "metadata": {
        "id": "QzBGFB30prSd",
        "outputId": "1d6be8bd-7d79-4842-c9d8-606a50bc3276",
        "colab": {
          "base_uri": "https://localhost:8080/"
        }
      },
      "source": [
        "inputs = tf.keras.Input(shape=(32,32,3))\n",
        "\n",
        "#features extractor\n",
        "x = VGG_blocks1(n_conv=64, rec_field=(3,3), act='relu')(inputs)\n",
        "x = VGG_blocks1(n_conv=128, rec_field=(3,3), act='relu')(x)\n",
        "x = VGG_blocks2(n_conv=256, rec_field=(3,3), act='relu')(x)\n",
        "x = VGG_blocks2(n_conv=512, rec_field=(3,3), act='relu')(x)\n",
        "\n",
        "#classification\n",
        "x = tf.keras.layers.Flatten()(x)\n",
        "outputs = CLASSIFICATION(n_dense=256, n_classes=100)(x)\n",
        "\n",
        "\n",
        "VGG_WI = tf.keras.Model(inputs, outputs)\n",
        "\n",
        "\n",
        "#Compile architecture\n",
        "VGG_WI.compile(optimizer='adam',\n",
        "              loss='sparse_categorical_crossentropy',\n",
        "              metrics=['accuracy'])\n",
        "\n",
        "VGG_WI.layers[1]._name = \"first_conv_block\"\n",
        "VGG_WI.layers[2]._name = \"second_conv_block_2\"\n",
        "VGG_WI.layers[3]._name = \"3rd_conv_block_3\"\n",
        "VGG_WI.layers[4]._name = \"4th_conv_block_3\"\n",
        "VGG_WI.layers[6]._name = \"classification_block_3\"\n",
        "\n",
        "VGG_WI.summary()"
      ],
      "execution_count": 86,
      "outputs": [
        {
          "output_type": "stream",
          "text": [
            "Model: \"functional_33\"\n",
            "_________________________________________________________________\n",
            "Layer (type)                 Output Shape              Param #   \n",
            "=================================================================\n",
            "input_23 (InputLayer)        [(None, 32, 32, 3)]       0         \n",
            "_________________________________________________________________\n",
            "first_conv_block (Sequential (None, 16, 16, 64)        38720     \n",
            "_________________________________________________________________\n",
            "second_conv_block_2 (Sequent (None, 8, 8, 128)         221440    \n",
            "_________________________________________________________________\n",
            "3rd_conv_block_3 (Sequential (None, 4, 4, 256)         1475328   \n",
            "_________________________________________________________________\n",
            "4th_conv_block_3 (Sequential (None, 2, 2, 512)         5899776   \n",
            "_________________________________________________________________\n",
            "flatten_14 (Flatten)         (None, 2048)              0         \n",
            "_________________________________________________________________\n",
            "classification_block_3 (Sequ (None, 100)               616036    \n",
            "=================================================================\n",
            "Total params: 8,251,300\n",
            "Trainable params: 8,251,300\n",
            "Non-trainable params: 0\n",
            "_________________________________________________________________\n"
          ],
          "name": "stdout"
        }
      ]
    },
    {
      "cell_type": "code",
      "metadata": {
        "id": "hlwFC4anqHAi"
      },
      "source": [
        "# load weights\n",
        "VGG_WI.load_weights('weights/VGG11_cifar100.h5')"
      ],
      "execution_count": 87,
      "outputs": []
    },
    {
      "cell_type": "code",
      "metadata": {
        "id": "FZLHrcXZqHVk",
        "outputId": "6fd729a9-6e37-41dd-c746-e7310db44d1b",
        "colab": {
          "base_uri": "https://localhost:8080/"
        }
      },
      "source": [
        "VGG_WI_notop = tf.keras.Sequential(VGG_WI.layers[:-1])\n",
        "VGG_WI_notop.summary()"
      ],
      "execution_count": 88,
      "outputs": [
        {
          "output_type": "stream",
          "text": [
            "Model: \"sequential_61\"\n",
            "_________________________________________________________________\n",
            "Layer (type)                 Output Shape              Param #   \n",
            "=================================================================\n",
            "first_conv_block (Sequential (None, 16, 16, 64)        38720     \n",
            "_________________________________________________________________\n",
            "second_conv_block_2 (Sequent (None, 8, 8, 128)         221440    \n",
            "_________________________________________________________________\n",
            "3rd_conv_block_3 (Sequential (None, 4, 4, 256)         1475328   \n",
            "_________________________________________________________________\n",
            "4th_conv_block_3 (Sequential (None, 2, 2, 512)         5899776   \n",
            "_________________________________________________________________\n",
            "flatten_14 (Flatten)         (None, 2048)              0         \n",
            "=================================================================\n",
            "Total params: 7,635,264\n",
            "Trainable params: 7,635,264\n",
            "Non-trainable params: 0\n",
            "_________________________________________________________________\n"
          ],
          "name": "stdout"
        }
      ]
    },
    {
      "cell_type": "code",
      "metadata": {
        "id": "-xm-bUgpqHTU",
        "outputId": "b89f3b97-2e3e-442e-c146-b441bd7c5fbe",
        "colab": {
          "base_uri": "https://localhost:8080/"
        }
      },
      "source": [
        "inputs = tf.keras.Input(shape=(32,32,3))\n",
        "\n",
        "#features extractor\n",
        "x = VGG_WI_notop(inputs)\n",
        "\n",
        "#classification\n",
        "outputs = CLASSIFICATION(n_dense=10, n_classes=10)(x)\n",
        "\n",
        "\n",
        "VGG_WI_dense = tf.keras.Model(inputs, outputs)\n",
        "\n",
        "\n",
        "#Compile architecture\n",
        "VGG_WI_dense.compile(optimizer='adam',\n",
        "              loss='sparse_categorical_crossentropy',\n",
        "              metrics=['accuracy'])\n",
        "\n",
        "VGG_WI_dense.layers[1]._name = \"VGG11\"\n",
        "VGG_WI_dense.layers[2]._name = \"Classification\"\n",
        "\n",
        "VGG_WI_dense.summary()"
      ],
      "execution_count": 90,
      "outputs": [
        {
          "output_type": "stream",
          "text": [
            "Model: \"functional_37\"\n",
            "_________________________________________________________________\n",
            "Layer (type)                 Output Shape              Param #   \n",
            "=================================================================\n",
            "input_25 (InputLayer)        [(None, 32, 32, 3)]       0         \n",
            "_________________________________________________________________\n",
            "VGG11 (Sequential)           (None, 2048)              7635264   \n",
            "_________________________________________________________________\n",
            "Classification (Sequential)  (None, 10)                20710     \n",
            "=================================================================\n",
            "Total params: 7,655,974\n",
            "Trainable params: 7,655,974\n",
            "Non-trainable params: 0\n",
            "_________________________________________________________________\n"
          ],
          "name": "stdout"
        }
      ]
    },
    {
      "cell_type": "markdown",
      "metadata": {
        "id": "j0K3Wf1Ms5sm"
      },
      "source": [
        "### We are ready for training"
      ]
    },
    {
      "cell_type": "markdown",
      "metadata": {
        "id": "1tVjeXiks-XE"
      },
      "source": [
        "**First scenario**\n",
        "\n",
        "\n",
        "      train everything"
      ]
    },
    {
      "cell_type": "code",
      "metadata": {
        "id": "2isGGA6uwMbx"
      },
      "source": [
        "VGG_WI_dense.trainable = True"
      ],
      "execution_count": 91,
      "outputs": []
    },
    {
      "cell_type": "code",
      "metadata": {
        "id": "W4HLPDYUn1g7",
        "outputId": "247def54-7dc2-4470-bbd0-a7c99d66212c",
        "colab": {
          "base_uri": "https://localhost:8080/"
        }
      },
      "source": [
        "VGG_WI_dense.summary()"
      ],
      "execution_count": 92,
      "outputs": [
        {
          "output_type": "stream",
          "text": [
            "Model: \"functional_37\"\n",
            "_________________________________________________________________\n",
            "Layer (type)                 Output Shape              Param #   \n",
            "=================================================================\n",
            "input_25 (InputLayer)        [(None, 32, 32, 3)]       0         \n",
            "_________________________________________________________________\n",
            "VGG11 (Sequential)           (None, 2048)              7635264   \n",
            "_________________________________________________________________\n",
            "Classification (Sequential)  (None, 10)                20710     \n",
            "=================================================================\n",
            "Total params: 7,655,974\n",
            "Trainable params: 7,655,974\n",
            "Non-trainable params: 0\n",
            "_________________________________________________________________\n"
          ],
          "name": "stdout"
        }
      ]
    },
    {
      "cell_type": "code",
      "metadata": {
        "id": "BBmNsoFYti5q"
      },
      "source": [
        "# define callbacks\n",
        "\n",
        "%reload_ext tensorboard\n",
        "log_dir = \"logs/fit/cifar10_base_1\" + datetime.datetime.now().strftime(\"%Y%m%d-%H%M%S\")\n",
        "tensorboard_callback = tf.keras.callbacks.TensorBoard(log_dir=log_dir, histogram_freq=1)\n",
        "\n",
        "# start train \n",
        "history_VGG_cifar10_1 = VGG_WI_dense.fit(x=x_train10, \n",
        "          y=y_train10, \n",
        "          epochs=30,\n",
        "          validation_split=0.2, \n",
        "          callbacks=[tensorboard_callback], verbose=1)\n"
      ],
      "execution_count": null,
      "outputs": []
    },
    {
      "cell_type": "code",
      "metadata": {
        "id": "wbWWhQehtxQP"
      },
      "source": [
        "score_1 = VGG_WI_dense.evaluate(x_test10, y_test10, verbose=0)\n",
        "print(score_1[0], ' : loss on cifar100')\n",
        "print(score_1[1]*100, '% : acc on cifar100')"
      ],
      "execution_count": null,
      "outputs": []
    },
    {
      "cell_type": "markdown",
      "metadata": {
        "id": "hseKEKWItIUp"
      },
      "source": [
        "**4th case**"
      ]
    },
    {
      "cell_type": "code",
      "metadata": {
        "id": "1BmkM-A9n1cN",
        "outputId": "9e9ff714-0909-46ee-cd29-0d4852eee007",
        "colab": {
          "base_uri": "https://localhost:8080/"
        }
      },
      "source": [
        "VGG_WI.trainable = False\n",
        "VGG_WI_dense.summary()"
      ],
      "execution_count": 93,
      "outputs": [
        {
          "output_type": "stream",
          "text": [
            "Model: \"functional_37\"\n",
            "_________________________________________________________________\n",
            "Layer (type)                 Output Shape              Param #   \n",
            "=================================================================\n",
            "input_25 (InputLayer)        [(None, 32, 32, 3)]       0         \n",
            "_________________________________________________________________\n",
            "VGG11 (Sequential)           (None, 2048)              7635264   \n",
            "_________________________________________________________________\n",
            "Classification (Sequential)  (None, 10)                20710     \n",
            "=================================================================\n",
            "Total params: 7,655,974\n",
            "Trainable params: 20,710\n",
            "Non-trainable params: 7,635,264\n",
            "_________________________________________________________________\n"
          ],
          "name": "stdout"
        }
      ]
    },
    {
      "cell_type": "code",
      "metadata": {
        "id": "MUSTGFw0ugGg"
      },
      "source": [
        "# define callbacks\n",
        "\n",
        "%reload_ext tensorboard\n",
        "log_dir = \"logs/fit/cifar10_base_4\" + datetime.datetime.now().strftime(\"%Y%m%d-%H%M%S\")\n",
        "tensorboard_callback = tf.keras.callbacks.TensorBoard(log_dir=log_dir, histogram_freq=1)\n",
        "\n",
        "# start train \n",
        "history_VGG_cifar10_4 = VGG_WI_dense.fit(x=x_train10, \n",
        "          y=y_train10, \n",
        "          epochs=30,\n",
        "          validation_split=0.2, \n",
        "          callbacks=[tensorboard_callback], verbose=1)\n"
      ],
      "execution_count": null,
      "outputs": []
    },
    {
      "cell_type": "code",
      "metadata": {
        "id": "1LKyvpLLugDx"
      },
      "source": [
        "score_4 = VGG_WI_dense.evaluate(x_test10, y_test10, verbose=0)\n",
        "print(score_1[0], ' : loss on cifar100')\n",
        "print(score_1[1]*100, '% : acc on cifar100')"
      ],
      "execution_count": null,
      "outputs": []
    },
    {
      "cell_type": "markdown",
      "metadata": {
        "id": "6e-Y0lAntDFX"
      },
      "source": [
        "**Second and Third one**"
      ]
    },
    {
      "cell_type": "code",
      "metadata": {
        "id": "ZyQtaGdovT0p"
      },
      "source": [
        "# re-initialize\n",
        "VGG_WI_dense.trainable = True\n",
        "VGG_WI_notop.trainable = True\n",
        "VGG_WI.trainable = True"
      ],
      "execution_count": 106,
      "outputs": []
    },
    {
      "cell_type": "code",
      "metadata": {
        "id": "obEQ8-Z47V1g",
        "outputId": "0b240293-234c-477f-e77b-1926c683d244",
        "colab": {
          "base_uri": "https://localhost:8080/"
        }
      },
      "source": [
        "VGG_WI_notop.summary()"
      ],
      "execution_count": 103,
      "outputs": [
        {
          "output_type": "stream",
          "text": [
            "Model: \"VGG11\"\n",
            "_________________________________________________________________\n",
            "Layer (type)                 Output Shape              Param #   \n",
            "=================================================================\n",
            "first_conv_block (Sequential (None, 16, 16, 64)        38720     \n",
            "_________________________________________________________________\n",
            "second_conv_block_2 (Sequent (None, 8, 8, 128)         221440    \n",
            "_________________________________________________________________\n",
            "3rd_conv_block_3 (Sequential (None, 4, 4, 256)         1475328   \n",
            "_________________________________________________________________\n",
            "4th_conv_block_3 (Sequential (None, 2, 2, 512)         5899776   \n",
            "_________________________________________________________________\n",
            "flatten_14 (Flatten)         (None, 2048)              0         \n",
            "=================================================================\n",
            "Total params: 7,635,264\n",
            "Trainable params: 7,635,264\n",
            "Non-trainable params: 0\n",
            "_________________________________________________________________\n"
          ],
          "name": "stdout"
        }
      ]
    },
    {
      "cell_type": "code",
      "metadata": {
        "id": "NC3Gn9e57V4q"
      },
      "source": [
        ""
      ],
      "execution_count": null,
      "outputs": []
    },
    {
      "cell_type": "code",
      "metadata": {
        "id": "6oz9LQZRtEyC",
        "outputId": "59fe1c1e-f6e1-4190-8da1-656cd081aa77",
        "colab": {
          "base_uri": "https://localhost:8080/",
          "height": 305
        }
      },
      "source": [
        "# Freeze all the layers before the `fine_tune_at` layer\n",
        "for layer in VGG_WI_notop.layers[:2]:\n",
        "  layer.trainable =  False\n",
        "\n",
        "\n",
        "pd.set_option('max_colwidth', -1)\n",
        "\n",
        "layers = [(layer.name, layer.trainable) for layer in VGG_WI_dense.layers]\n",
        "layers_initial = [(layer.name, layer.trainable) for layer in VGG_WI.layers]\n",
        "\n",
        "vgg_initial = pd.DataFrame(layers_initial, columns=['Layer Name', 'Layer Trainable'])\n",
        "vgg_model = pd.DataFrame(layers, columns=['Layer Name', 'Layer Trainable'])\n",
        "\n",
        "vgg_trainable = pd.concat([vgg_initial, vgg_model[2:]])\n",
        "\n",
        "vgg_trainable.head(100)"
      ],
      "execution_count": 107,
      "outputs": [
        {
          "output_type": "stream",
          "text": [
            "__main__:6: FutureWarning: Passing a negative integer is deprecated in version 1.0 and will not be supported in future version. Instead, use None to not limit the column width.\n"
          ],
          "name": "stderr"
        },
        {
          "output_type": "execute_result",
          "data": {
            "text/html": [
              "<div>\n",
              "<style scoped>\n",
              "    .dataframe tbody tr th:only-of-type {\n",
              "        vertical-align: middle;\n",
              "    }\n",
              "\n",
              "    .dataframe tbody tr th {\n",
              "        vertical-align: top;\n",
              "    }\n",
              "\n",
              "    .dataframe thead th {\n",
              "        text-align: right;\n",
              "    }\n",
              "</style>\n",
              "<table border=\"1\" class=\"dataframe\">\n",
              "  <thead>\n",
              "    <tr style=\"text-align: right;\">\n",
              "      <th></th>\n",
              "      <th>Layer Name</th>\n",
              "      <th>Layer Trainable</th>\n",
              "    </tr>\n",
              "  </thead>\n",
              "  <tbody>\n",
              "    <tr>\n",
              "      <th>0</th>\n",
              "      <td>input_23</td>\n",
              "      <td>True</td>\n",
              "    </tr>\n",
              "    <tr>\n",
              "      <th>1</th>\n",
              "      <td>first_conv_block</td>\n",
              "      <td>False</td>\n",
              "    </tr>\n",
              "    <tr>\n",
              "      <th>2</th>\n",
              "      <td>second_conv_block_2</td>\n",
              "      <td>False</td>\n",
              "    </tr>\n",
              "    <tr>\n",
              "      <th>3</th>\n",
              "      <td>3rd_conv_block_3</td>\n",
              "      <td>True</td>\n",
              "    </tr>\n",
              "    <tr>\n",
              "      <th>4</th>\n",
              "      <td>4th_conv_block_3</td>\n",
              "      <td>True</td>\n",
              "    </tr>\n",
              "    <tr>\n",
              "      <th>5</th>\n",
              "      <td>flatten_14</td>\n",
              "      <td>True</td>\n",
              "    </tr>\n",
              "    <tr>\n",
              "      <th>6</th>\n",
              "      <td>classification_block_3</td>\n",
              "      <td>True</td>\n",
              "    </tr>\n",
              "    <tr>\n",
              "      <th>2</th>\n",
              "      <td>Classification</td>\n",
              "      <td>True</td>\n",
              "    </tr>\n",
              "  </tbody>\n",
              "</table>\n",
              "</div>"
            ],
            "text/plain": [
              "               Layer Name  Layer Trainable\n",
              "0  input_23                True           \n",
              "1  first_conv_block        False          \n",
              "2  second_conv_block_2     False          \n",
              "3  3rd_conv_block_3        True           \n",
              "4  4th_conv_block_3        True           \n",
              "5  flatten_14              True           \n",
              "6  classification_block_3  True           \n",
              "2  Classification          True           "
            ]
          },
          "metadata": {
            "tags": []
          },
          "execution_count": 107
        }
      ]
    },
    {
      "cell_type": "code",
      "metadata": {
        "id": "uov6hBBh8I3j",
        "outputId": "e9fa9d85-d735-46a7-c565-53b489a3c1b3",
        "colab": {
          "base_uri": "https://localhost:8080/"
        }
      },
      "source": [
        "VGG_WI_dense.summary()"
      ],
      "execution_count": 108,
      "outputs": [
        {
          "output_type": "stream",
          "text": [
            "Model: \"functional_37\"\n",
            "_________________________________________________________________\n",
            "Layer (type)                 Output Shape              Param #   \n",
            "=================================================================\n",
            "input_25 (InputLayer)        [(None, 32, 32, 3)]       0         \n",
            "_________________________________________________________________\n",
            "VGG11 (Sequential)           (None, 2048)              7635264   \n",
            "_________________________________________________________________\n",
            "Classification (Sequential)  (None, 10)                20710     \n",
            "=================================================================\n",
            "Total params: 7,655,974\n",
            "Trainable params: 7,395,814\n",
            "Non-trainable params: 260,160\n",
            "_________________________________________________________________\n"
          ],
          "name": "stdout"
        }
      ]
    },
    {
      "cell_type": "code",
      "metadata": {
        "id": "piOkYaDQtFDj"
      },
      "source": [
        "# define callbacks\n",
        "\n",
        "%reload_ext tensorboard\n",
        "log_dir = \"logs/fit/cifar10_base_3\" + datetime.datetime.now().strftime(\"%Y%m%d-%H%M%S\")\n",
        "tensorboard_callback = tf.keras.callbacks.TensorBoard(log_dir=log_dir, histogram_freq=1)\n",
        "\n",
        "# start train \n",
        "history_VGG_cifar10_2_3 = VGG_WI_dense.fit(x=x_train10, \n",
        "          y=y_train10, \n",
        "          epochs=30,\n",
        "          validation_split=0.2, \n",
        "          callbacks=[tensorboard_callback], verbose=1)\n"
      ],
      "execution_count": null,
      "outputs": []
    },
    {
      "cell_type": "code",
      "metadata": {
        "id": "mbepXfmGvkBJ"
      },
      "source": [
        "score_2_3 = VGG_WI_dense.evaluate(x_test10, y_test10, verbose=0)\n",
        "print(score_1[0], ' : loss on cifar100')\n",
        "print(score_1[1]*100, '% : acc on cifar100')"
      ],
      "execution_count": null,
      "outputs": []
    },
    {
      "cell_type": "markdown",
      "metadata": {
        "id": "JPcn5boEg2m5"
      },
      "source": [
        "## We need to understand the main differences\n",
        "\n",
        "\n",
        "    1 v 2\n",
        "    1 vs 3\n",
        "    1 vs 4\n",
        "\n",
        "    2 vs 3\n",
        "    2 vs 4\n",
        "\n",
        "    3 vs 4\n",
        "\n",
        "\n",
        "*Ma se noi avessimo addestrato cifar10 su vgg11 da zero? che performance?*"
      ]
    },
    {
      "cell_type": "code",
      "metadata": {
        "id": "pAJ4NYRPt0cr"
      },
      "source": [
        "score_1 = VGG_WI_dense.evaluate(x_test10, y_test10, verbose=0)\n",
        "print('\\nFirst case')\n",
        "print(score_1[0], ' : loss on cifar100')\n",
        "print(score_1[1]*100, '% : acc on cifar100')\n",
        "\n",
        "print('\\nSecond_third case')\n",
        "score_2_3 = VGG_WI_dense.evaluate(x_test10, y_test10, verbose=0)\n",
        "print(score_1[0], ' : loss on cifar100')\n",
        "print(score_1[1]*100, '% : acc on cifar100')\n",
        "\n",
        "print('\\nLast case')\n",
        "score_4 = VGG_WI_dense.evaluate(x_test10, y_test10, verbose=0)\n",
        "print(score_1[0], ' : loss on cifar100')\n",
        "print(score_1[1]*100, '% : acc on cifar100')"
      ],
      "execution_count": null,
      "outputs": []
    },
    {
      "cell_type": "markdown",
      "metadata": {
        "id": "78FvgeqihhfK"
      },
      "source": [
        "## Channels? "
      ]
    },
    {
      "cell_type": "markdown",
      "metadata": {
        "id": "nA87kn4mhtX1"
      },
      "source": [
        "domanda :\n",
        "\n",
        "      - ho un modello pre-trainato su immagini BN. voglio applicarlo ad un dataset con immagini a colori\n",
        "\n",
        "      - ho un modello pre-trainato su immagini RGB (colori). Voglio applicarlo su un dataset BN"
      ]
    },
    {
      "cell_type": "code",
      "metadata": {
        "id": "vM9Cx7atha8a"
      },
      "source": [
        "(x_train, y_train), (x_test, y_test) = tf.keras.datasets.fashion_mnist.load_data()\n",
        "\n",
        "print(x_train.shape, y_train.shape, x_test.shape, y_test.shape)\n",
        "\n",
        "#The range for each individual colour is 0-255\n",
        "x_train = x_train.astype('float32')/255 \n",
        "x_test = x_test.astype('float32')/255"
      ],
      "execution_count": null,
      "outputs": []
    },
    {
      "cell_type": "code",
      "metadata": {
        "id": "w2yQo0yAfio0"
      },
      "source": [
        ""
      ],
      "execution_count": null,
      "outputs": []
    }
  ]
}